{
 "cells": [
  {
   "cell_type": "code",
   "execution_count": 28,
   "id": "aa88e245",
   "metadata": {},
   "outputs": [],
   "source": [
    "import numpy\n",
    "import face_recognition as fr\n",
    "import cv2 \n",
    "from retinaface import RetinaFace\n",
    "import matplotlib.pyplot as plt\n",
    "import sys"
   ]
  },
  {
   "cell_type": "code",
   "execution_count": 29,
   "id": "6da9fe4c",
   "metadata": {},
   "outputs": [],
   "source": [
    "faceCascade = cv2.CascadeClassifier('haarcascade_frontalface_default.xml')"
   ]
  },
  {
   "cell_type": "code",
   "execution_count": 30,
   "id": "333a95d4",
   "metadata": {},
   "outputs": [],
   "source": [
    "def faceLocalization(videoCap, crop=True, rOffset=20):\n",
    "\n",
    "    while True:\n",
    "        _, img = videoCap.read()\n",
    "    \n",
    "        imgGray = cv2.cvtColor(img, cv2.COLOR_BGR2GRAY)\n",
    "        faces = faceCascade.detectMultiScale(imgGray, 1.1, 4)\n",
    "\n",
    "        for coords in faces:\n",
    "            x, y, w, h = coords \n",
    "\n",
    "            if crop:\n",
    "                imgCrop = img[y:y+h+rOffset, x:x+w+rOffset].copy()\n",
    "                cv2.imshow('img', imgCrop)\n",
    "            else:\n",
    "                cv2.rectangle(img, (x-rOffset, y-rOffset), (x+w+rOffset, y+h+rOffset), (255, 192, 203), 2)\n",
    "                cv2.imshow('img', img)\n",
    "            \n",
    "\n",
    "        if cv2.waitKey(1) & 0xff == ord(\"q\"):\n",
    "            videoCap.release()\n",
    "            break"
   ]
  },
  {
   "cell_type": "code",
   "execution_count": 31,
   "id": "8c771e7a",
   "metadata": {},
   "outputs": [],
   "source": [
    "try:\n",
    "    # videoCap = cv2.VideoCapture('video.mp4')\n",
    "    videoCap = cv2.VideoCapture(-1)\n",
    "    \n",
    "    faceLocalization(videoCap, False, 40)\n",
    "except:\n",
    "    videoCap.release()\n",
    "    \n",
    "    print(sys.exc_info()[0])"
   ]
  },
  {
   "cell_type": "code",
   "execution_count": null,
   "id": "6338af3f",
   "metadata": {},
   "outputs": [],
   "source": []
  },
  {
   "cell_type": "code",
   "execution_count": null,
   "id": "077f3e42",
   "metadata": {},
   "outputs": [],
   "source": []
  },
  {
   "cell_type": "code",
   "execution_count": null,
   "id": "77a50c4e",
   "metadata": {},
   "outputs": [],
   "source": []
  },
  {
   "cell_type": "code",
   "execution_count": null,
   "id": "7d2738c8",
   "metadata": {},
   "outputs": [],
   "source": []
  }
 ],
 "metadata": {
  "kernelspec": {
   "display_name": "Python 3 (ipykernel)",
   "language": "python",
   "name": "python3"
  },
  "language_info": {
   "codemirror_mode": {
    "name": "ipython",
    "version": 3
   },
   "file_extension": ".py",
   "mimetype": "text/x-python",
   "name": "python",
   "nbconvert_exporter": "python",
   "pygments_lexer": "ipython3",
   "version": "3.9.0"
  }
 },
 "nbformat": 4,
 "nbformat_minor": 5
}
