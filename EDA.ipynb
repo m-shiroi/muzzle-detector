{
 "cells": [
  {
   "cell_type": "code",
   "execution_count": 24,
   "id": "19ce7959-3da8-411c-b835-be26ae32dd0d",
   "metadata": {},
   "outputs": [],
   "source": [
    "import json\n",
    "import piexif\n",
    "from PIL import Image\n",
    "import os\n",
    "import pickle\n",
    "from shutil import copyfile, unpack_archive, move\n",
    "import pandas as pd\n",
    "from scrapper import scrapper"
   ]
  },
  {
   "cell_type": "code",
   "execution_count": 25,
   "id": "df2ff014-7f0f-4b9e-9cca-66422a70ea88",
   "metadata": {},
   "outputs": [
    {
     "data": {
      "text/plain": [
       "{'github': {'commit': '659e7e0df1ac7d7e876d07c33341f2e625cba3d4',\n",
       "  'repo': 'borutb-fri/FMLD'},\n",
       " 'annotations': {'id': 'FMLD_annotations.zip', 'src': 'github'},\n",
       " 'train': [{'img': {'id': '15hGDLhsx8bLgLcIRD5DhYt5iBxnjNF1M',\n",
       "    'out': 'wide-train.zip',\n",
       "    'src': 'drive'}},\n",
       "  {'img': {'id': '17bRIiaGyrKLEDQOV2RlqbPQ9TyCZxq9k',\n",
       "    'out': 'mafa-train.zip',\n",
       "    'src': 'drive'}}],\n",
       " 'test': [{'img': {'id': '1GUCogbp16PMGa39thoMMeWxp7Rp5oM8Q',\n",
       "    'out': 'wide-test.zip',\n",
       "    'src': 'drive'}},\n",
       "  {'img': {'id': '1jJHdmmscqxvNQ2dxKUrLaHqW3w1Yo_9S',\n",
       "    'out': 'mafa-test.zip',\n",
       "    'src': 'drive'}}]}"
      ]
     },
     "execution_count": 25,
     "metadata": {},
     "output_type": "execute_result"
    }
   ],
   "source": [
    "with open(\"meta.json\", encoding=\"UTF-8\") as fl:\n",
    "    meta=json.load(fl)\n",
    "meta"
   ]
  },
  {
   "cell_type": "code",
   "execution_count": 5,
   "id": "e5dde0bc-c6b5-4bed-85cb-3363c88887c4",
   "metadata": {},
   "outputs": [],
   "source": [
    "github_info = meta[\"github\"]"
   ]
  },
  {
   "cell_type": "code",
   "execution_count": 6,
   "id": "bc89e373-4b6e-43e1-94ee-e38ed6c93161",
   "metadata": {},
   "outputs": [],
   "source": [
    "scrapper(meta[\"annotations\"], github_info)"
   ]
  },
  {
   "cell_type": "code",
   "execution_count": null,
   "id": "3bcfbb1e-c46e-47a0-aa89-ae338fcb87f8",
   "metadata": {},
   "outputs": [],
   "source": [
    "[scrapper(el['img'], github_info) for el in meta[\"train\"]]\n",
    "[scrapper(el['img'], github_info) for el in meta[\"test\"]] "
   ]
  },
  {
   "cell_type": "code",
   "execution_count": 9,
   "id": "b18f1644-7057-4de7-9465-3ed0bbbc3f3a",
   "metadata": {},
   "outputs": [
    {
     "data": {
      "text/plain": [
       "'train-images'"
      ]
     },
     "execution_count": 9,
     "metadata": {},
     "output_type": "execute_result"
    }
   ],
   "source": [
    "unpack_archive(\"FMLD_annotations.zip\", \".\")\n",
    "unpack_archive(\"wide-test.zip\", \".\")\n",
    "unpack_archive(\"wide-train.zip\", \".\")\n",
    "unpack_archive(\"mafa-test.zip\", \".\")\n",
    "move(\"images\", \"test-images\")\n",
    "unpack_archive(\"mafa-train.zip\", \".\")\n",
    "move(\"images\", \"train-images\")"
   ]
  },
  {
   "cell_type": "code",
   "execution_count": 26,
   "id": "d1b9531c-011b-4c74-903e-3fb6879dbcfe",
   "metadata": {},
   "outputs": [],
   "source": [
    "import cv2\n",
    "import xml.etree.ElementTree as ET\n",
    "\n",
    "class Annotation:\n",
    "    THRESHOLD = 50\n",
    "    \n",
    "    def __init__(self, root):\n",
    "        if not os.path.isdir(root):\n",
    "            raise Exception(\"FUCK\")\n",
    "        self.iter = (f\"{subs}/{fl}\" for subs, dirs, fls in os.walk(root) for fl in fls)\n",
    "    \n",
    "    def save_faces(self):\n",
    "        to_int = lambda val: int(float(val))\n",
    "        get_object = lambda obj, w, h, d: {\n",
    "                \"name\": obj.find(\"name\").text,\n",
    "                \"gender\": obj.find(\"gender\").text,\n",
    "                \"ethnisity\": obj.find(\"ethnicity\").text,\n",
    "                \"pose\": obj.find(\"pose\").text,\n",
    "                \"truncated\": obj.find(\"truncated\").text,\n",
    "                \"difficult\": obj.find(\"difficult\").text,\n",
    "                \"x0\": max(0, to_int(obj.find(\"bndbox\").find(\"xmin\").text)),\n",
    "                \"y0\": max(0, to_int(obj.find(\"bndbox\").find(\"ymin\").text)),\n",
    "                \"x1\": min(w, to_int(obj.find(\"bndbox\").find(\"xmax\").text)),\n",
    "                \"y1\": min(h, to_int(obj.find(\"bndbox\").find(\"ymax\").text)),\n",
    "        }\n",
    "        \n",
    "        for fl in self.iter:\n",
    "            try:\n",
    "                name, _ = fl.split(\".xml\")\n",
    "                *_, name = name.split(os.sep)\n",
    "            except:\n",
    "                print(name)\n",
    "                continue\n",
    "            \n",
    "            root = ET.parse(fl)\n",
    "            path = root.find(\"path\").text\n",
    "            folder = root.find(\"folder\").text\n",
    "            if not os.path.isdir(folder):\n",
    "                os.mkdir(folder)\n",
    "            source = root.find(\"source\").find(\"database\").text\n",
    "            size = root.find(\"size\")\n",
    "            dim = {\n",
    "                \"w\": to_int(size.find(\"width\").text), \n",
    "                \"h\": to_int(size.find(\"height\").text), \n",
    "                \"d\": to_int(size.find(\"depth\").text)\n",
    "            }\n",
    "            segmented = root.find(\"segmented\").text\n",
    "            faces = self.__get_faces(map(lambda obj: get_object(obj, **dim), root.findall(\"object\")), path)\n",
    "            for ind, (face, exif) in enumerate(faces):\n",
    "                face_path = f\"{folder}{os.sep}{name}_{ind}.jpg\"\n",
    "                face.save(face_path, exif=exif)\n",
    "    \n",
    "    def read_faces(self):\n",
    "        for fl in self.iter:   \n",
    "            meta = self.face_meta(fl)\n",
    "            meta[\"src\"] = fl\n",
    "            yield meta\n",
    "            \n",
    "    \n",
    "    @staticmethod\n",
    "    def __face_exif(path, obj_dict): \n",
    "        return piexif.dump({\"Exif\": {piexif.ExifIFD.MakerNote: pickle.dumps({\n",
    "            \"path\": path,\n",
    "            **obj_dict\n",
    "        })}})\n",
    "    \n",
    "    @staticmethod\n",
    "    def face_meta(path):\n",
    "        exif_dict = piexif.load(path)\n",
    "        return pickle.loads(exif_dict[\"Exif\"][piexif.ExifIFD.MakerNote])\n",
    "    \n",
    "    @staticmethod\n",
    "    def __get_faces(objs, fl):\n",
    "        img = cv2.imread(fl)\n",
    "        if img is None:\n",
    "            raise Exception(f\"No image: {fl}\")\n",
    "        for obj in objs:\n",
    "            y0,y1,x0,x1 = obj[\"y0\"],obj[\"y1\"],obj[\"x0\"],obj[\"x1\"]\n",
    "            \n",
    "            if min((y1 - y0), (x1 - x0)) < Annotation.THRESHOLD:\n",
    "                continue\n",
    "            face = img[y0:y1, x0:x1, :]\n",
    "            yield (Image.fromarray(face), Annotation.__face_exif(fl, obj))"
   ]
  },
  {
   "cell_type": "code",
   "execution_count": 11,
   "id": "4cee6781-5a34-4d95-868a-c446d5d54a32",
   "metadata": {},
   "outputs": [
    {
     "name": "stderr",
     "output_type": "stream",
     "text": [
      "libpng warning: sBIT: invalid\n",
      "Corrupt JPEG data: 1 extraneous bytes before marker 0xd9\n",
      "Corrupt JPEG data: 1 extraneous bytes before marker 0xd9\n",
      "libpng warning: iCCP: known incorrect sRGB profile\n",
      "Corrupt JPEG data: 1 extraneous bytes before marker 0xd9\n",
      "libpng warning: iCCP: known incorrect sRGB profile\n",
      "libpng warning: iCCP: known incorrect sRGB profile\n",
      "libpng warning: iCCP: cHRM chunk does not match sRGB\n",
      "Corrupt JPEG data: 1 extraneous bytes before marker 0xd9\n",
      "libpng warning: iCCP: known incorrect sRGB profile\n",
      "libpng warning: iCCP: known incorrect sRGB profile\n"
     ]
    }
   ],
   "source": [
    "A = Annotation(\"FMLD_annotations\")\n",
    "A.save_faces()"
   ]
  },
  {
   "cell_type": "code",
   "execution_count": 27,
   "id": "1d239a8b-96ce-4c93-9eff-4c91fd07a6e3",
   "metadata": {},
   "outputs": [],
   "source": [
    "test = Annotation(\"test\")\n",
    "train = Annotation(\"train\")\n",
    "test_df = pd.DataFrame(test.read_faces());\n",
    "train_df = pd.DataFrame(train.read_faces());"
   ]
  },
  {
   "cell_type": "code",
   "execution_count": 28,
   "id": "1299c3a5-a91f-4363-99ce-74da78b7c3f9",
   "metadata": {},
   "outputs": [],
   "source": [
    "test_df = test_df[test_df[\"gender\"] != \"unspecified\"]"
   ]
  },
  {
   "cell_type": "code",
   "execution_count": 7,
   "id": "470a9107-60ee-40c0-b5a8-6b7548b86633",
   "metadata": {},
   "outputs": [
    {
     "data": {
      "text/plain": [
       "<AxesSubplot:>"
      ]
     },
     "execution_count": 7,
     "metadata": {},
     "output_type": "execute_result"
    },
    {
     "data": {
      "image/png": "[encoded data removed]",
      "text/plain": [
       "<Figure size 432x288 with 1 Axes>"
      ]
     },
     "metadata": {
      "needs_background": "light"
     },
     "output_type": "display_data"
    }
   ],
   "source": [
    "test_df[\"pose\"].value_counts().plot.bar(color = ['#F66095', '#95ebec'])"
   ]
  },
  {
   "cell_type": "code",
   "execution_count": 10,
   "id": "416d0520-1eba-44b4-997d-185572ac364a",
   "metadata": {},
   "outputs": [
    {
     "data": {
      "text/plain": [
       "<AxesSubplot:>"
      ]
     },
     "execution_count": 10,
     "metadata": {},
     "output_type": "execute_result"
    },
    {
     "data": {
      "image/png": "[encoded data removed]",
      "text/plain": [
       "<Figure size 432x288 with 1 Axes>"
      ]
     },
     "metadata": {
      "needs_background": "light"
     },
     "output_type": "display_data"
    }
   ],
   "source": [
    "test_df[\"name\"].value_counts().plot.bar(color = ['#F66095', '#95ebec'])"
   ]
  },
  {
   "cell_type": "code",
   "execution_count": 9,
   "id": "8da37cae-4e94-4655-8e85-82211ad1d1e2",
   "metadata": {},
   "outputs": [
    {
     "data": {
      "text/plain": [
       "<AxesSubplot:>"
      ]
     },
     "execution_count": 9,
     "metadata": {},
     "output_type": "execute_result"
    },
    {
     "data": {
      "image/png": "[encoded data removed]",
      "text/plain": [
       "<Figure size 432x288 with 1 Axes>"
      ]
     },
     "metadata": {
      "needs_background": "light"
     },
     "output_type": "display_data"
    }
   ],
   "source": [
    "test_df[\"ethnisity\"].value_counts().plot.bar(color = ['#F66095', '#95ebec'])"
   ]
  },
  {
   "cell_type": "code",
   "execution_count": 10,
   "id": "dd448aba-6a4c-4554-b658-224bcb69dbf0",
   "metadata": {},
   "outputs": [
    {
     "data": {
      "text/plain": [
       "<AxesSubplot:>"
      ]
     },
     "execution_count": 10,
     "metadata": {},
     "output_type": "execute_result"
    },
    {
     "data": {
      "image/png": "[encoded data removed]",
      "text/plain": [
       "<Figure size 432x288 with 1 Axes>"
      ]
     },
     "metadata": {
      "needs_background": "light"
     },
     "output_type": "display_data"
    }
   ],
   "source": [
    "test_df[\"gender\"].value_counts().plot.bar(color = ['#F66095', '#95ebec'])"
   ]
  },
  {
   "cell_type": "code",
   "execution_count": 11,
   "id": "94e091cb-37b5-4f4d-8c3a-2ca75a153080",
   "metadata": {},
   "outputs": [
    {
     "name": "stdout",
     "output_type": "stream",
     "text": [
      "Test data-set size: 10481\n"
     ]
    }
   ],
   "source": [
    "print(f\"Test data-set size: {len(test_df)}\")"
   ]
  },
  {
   "cell_type": "code",
   "execution_count": 12,
   "id": "15845ffc-95d5-43bf-90fd-79f2433198cf",
   "metadata": {},
   "outputs": [
    {
     "data": {
      "text/plain": [
       "<AxesSubplot:>"
      ]
     },
     "execution_count": 12,
     "metadata": {},
     "output_type": "execute_result"
    },
    {
     "data": {
      "image/png": "[encoded data removed]",
      "text/plain": [
       "<Figure size 432x288 with 1 Axes>"
      ]
     },
     "metadata": {
      "needs_background": "light"
     },
     "output_type": "display_data"
    }
   ],
   "source": [
    "train_df[\"name\"].value_counts().plot.bar(color = ['#F66095', '#95ebec'])"
   ]
  },
  {
   "cell_type": "code",
   "execution_count": 13,
   "id": "fb3f0022-f9a3-4ace-9e47-096732c2b31a",
   "metadata": {},
   "outputs": [
    {
     "name": "stdout",
     "output_type": "stream",
     "text": [
      "Train data-set size: 42761\n"
     ]
    }
   ],
   "source": [
    "print(f\"Train data-set size: {len(train_df)}\")"
   ]
  },
  {
   "cell_type": "code",
   "execution_count": 29,
   "id": "7ff91cc8-232d-403e-a287-dd8c8f23b003",
   "metadata": {},
   "outputs": [
    {
     "data": {
      "text/html": [
       "<div>\n",
       "<style scoped>\n",
       "    .dataframe tbody tr th:only-of-type {\n",
       "        vertical-align: middle;\n",
       "    }\n",
       "\n",
       "    .dataframe tbody tr th {\n",
       "        vertical-align: top;\n",
       "    }\n",
       "\n",
       "    .dataframe thead th {\n",
       "        text-align: right;\n",
       "    }\n",
       "</style>\n",
       "<table border=\"1\" class=\"dataframe\">\n",
       "  <thead>\n",
       "    <tr style=\"text-align: right;\">\n",
       "      <th></th>\n",
       "      <th>path</th>\n",
       "      <th>name</th>\n",
       "      <th>gender</th>\n",
       "      <th>ethnisity</th>\n",
       "      <th>pose</th>\n",
       "      <th>truncated</th>\n",
       "      <th>difficult</th>\n",
       "      <th>x0</th>\n",
       "      <th>y0</th>\n",
       "      <th>x1</th>\n",
       "      <th>y1</th>\n",
       "      <th>src</th>\n",
       "    </tr>\n",
       "  </thead>\n",
       "  <tbody>\n",
       "    <tr>\n",
       "      <th>0</th>\n",
       "      <td>WIDER_train/images/0--Parade/0_Parade_Parade_0...</td>\n",
       "      <td>unmasked_face</td>\n",
       "      <td>unspecified</td>\n",
       "      <td>unspecified</td>\n",
       "      <td>unspecified</td>\n",
       "      <td>0</td>\n",
       "      <td>0</td>\n",
       "      <td>457</td>\n",
       "      <td>189</td>\n",
       "      <td>510</td>\n",
       "      <td>251</td>\n",
       "      <td>train/0_Parade_Parade_0_1019_0.jpg</td>\n",
       "    </tr>\n",
       "    <tr>\n",
       "      <th>1</th>\n",
       "      <td>WIDER_train/images/0--Parade/0_Parade_Parade_0...</td>\n",
       "      <td>unmasked_face</td>\n",
       "      <td>unspecified</td>\n",
       "      <td>unspecified</td>\n",
       "      <td>unspecified</td>\n",
       "      <td>0</td>\n",
       "      <td>0</td>\n",
       "      <td>413</td>\n",
       "      <td>200</td>\n",
       "      <td>465</td>\n",
       "      <td>257</td>\n",
       "      <td>train/0_Parade_Parade_0_1019_1.jpg</td>\n",
       "    </tr>\n",
       "    <tr>\n",
       "      <th>2</th>\n",
       "      <td>WIDER_train/images/0--Parade/0_Parade_Parade_0...</td>\n",
       "      <td>unmasked_face</td>\n",
       "      <td>unspecified</td>\n",
       "      <td>unspecified</td>\n",
       "      <td>unspecified</td>\n",
       "      <td>0</td>\n",
       "      <td>0</td>\n",
       "      <td>704</td>\n",
       "      <td>110</td>\n",
       "      <td>793</td>\n",
       "      <td>218</td>\n",
       "      <td>train/0_Parade_Parade_0_1019_2.jpg</td>\n",
       "    </tr>\n",
       "    <tr>\n",
       "      <th>3</th>\n",
       "      <td>WIDER_train/images/0--Parade/0_Parade_Parade_0...</td>\n",
       "      <td>unmasked_face</td>\n",
       "      <td>unspecified</td>\n",
       "      <td>unspecified</td>\n",
       "      <td>unspecified</td>\n",
       "      <td>0</td>\n",
       "      <td>0</td>\n",
       "      <td>523</td>\n",
       "      <td>164</td>\n",
       "      <td>588</td>\n",
       "      <td>245</td>\n",
       "      <td>train/0_Parade_Parade_0_1019_3.jpg</td>\n",
       "    </tr>\n",
       "    <tr>\n",
       "      <th>4</th>\n",
       "      <td>WIDER_train/images/0--Parade/0_Parade_Parade_0...</td>\n",
       "      <td>unmasked_face</td>\n",
       "      <td>unspecified</td>\n",
       "      <td>unspecified</td>\n",
       "      <td>unspecified</td>\n",
       "      <td>0</td>\n",
       "      <td>0</td>\n",
       "      <td>849</td>\n",
       "      <td>189</td>\n",
       "      <td>901</td>\n",
       "      <td>256</td>\n",
       "      <td>train/0_Parade_Parade_0_1019_4.jpg</td>\n",
       "    </tr>\n",
       "  </tbody>\n",
       "</table>\n",
       "</div>"
      ],
      "text/plain": [
       "                                                path           name  \\\n",
       "0  WIDER_train/images/0--Parade/0_Parade_Parade_0...  unmasked_face   \n",
       "1  WIDER_train/images/0--Parade/0_Parade_Parade_0...  unmasked_face   \n",
       "2  WIDER_train/images/0--Parade/0_Parade_Parade_0...  unmasked_face   \n",
       "3  WIDER_train/images/0--Parade/0_Parade_Parade_0...  unmasked_face   \n",
       "4  WIDER_train/images/0--Parade/0_Parade_Parade_0...  unmasked_face   \n",
       "\n",
       "        gender    ethnisity         pose truncated difficult   x0   y0   x1  \\\n",
       "0  unspecified  unspecified  unspecified         0         0  457  189  510   \n",
       "1  unspecified  unspecified  unspecified         0         0  413  200  465   \n",
       "2  unspecified  unspecified  unspecified         0         0  704  110  793   \n",
       "3  unspecified  unspecified  unspecified         0         0  523  164  588   \n",
       "4  unspecified  unspecified  unspecified         0         0  849  189  901   \n",
       "\n",
       "    y1                                 src  \n",
       "0  251  train/0_Parade_Parade_0_1019_0.jpg  \n",
       "1  257  train/0_Parade_Parade_0_1019_1.jpg  \n",
       "2  218  train/0_Parade_Parade_0_1019_2.jpg  \n",
       "3  245  train/0_Parade_Parade_0_1019_3.jpg  \n",
       "4  256  train/0_Parade_Parade_0_1019_4.jpg  "
      ]
     },
     "execution_count": 29,
     "metadata": {},
     "output_type": "execute_result"
    }
   ],
   "source": [
    "train_df.head()"
   ]
  },
  {
   "cell_type": "code",
   "execution_count": 59,
   "id": "3b23d865-65b5-48d4-9808-512dab8d3032",
   "metadata": {},
   "outputs": [],
   "source": [
    "def form_ds(df: pd.DataFrame, dsroot: str, ubound:int=None):\n",
    "    create_dir = lambda dir_: (os.mkdir(dir_) if not os.path.isdir(dir_) else None) or dir_\n",
    "    type_, *_ = df.iloc[0][\"src\"].split(os.sep)\n",
    "    create_dir(dsroot)\n",
    "    type_folder = create_dir(f\"{dsroot}{os.sep}{type_}\")\n",
    "    \n",
    "    tags = df.groupby(\"name\")\n",
    "    tags_num = len(tags)\n",
    "    \n",
    "    for name, tag in tags:\n",
    "        class_name = \"correct\" if name == \"masked_face\" else \"incorrect\"\n",
    "        class_path = create_dir(f\"{type_folder}{os.sep}{class_name}\")\n",
    "        save_file = lambda x: copyfile(x['src'], f\"{class_path}{os.sep}{x['src'].split(os.sep)[-1]}\")\n",
    "        \n",
    "        size = len(tag)\n",
    "        allowed = int(size if ubound is None else min(size, ubound/tags_num))\n",
    "        print(f\"{name}: {allowed} faces\")\n",
    "        tag.sample(allowed).apply(save_file, axis=1)\n",
    "        \n",
    "        \n",
    "    return\n",
    "    type_, *_ = df.iloc[0][\"src\"].split(os.sep)\n",
    "    classes = { \n",
    "        \"correct\": {\n",
    "            \"check\": lambda x: x == \"masked_face\",\n",
    "            \"total\": None\n",
    "        },\n",
    "        \"incorrect\": {\n",
    "            \"check\": lambda x: x != \"masked_face\",\n",
    "            \"total\": None\n",
    "        }\n",
    "    }\n",
    "    \n",
    "    num_cls = len(classes)\n",
    "    if ubound is not None:\n",
    "        for cls in classes:\n",
    "            classes[cls][\"total\"] = ubound//num_cls\n",
    "    \n",
    "    \n",
    "    \n",
    "    if not os.path.isdir(dsroot):\n",
    "        os.mkdir(dsroot)\n",
    "        \n",
    "    type_folder = f\"{dsroot}{os.sep}{type_}\"\n",
    "\n",
    "    if not os.path.isdir(type_folder):\n",
    "        os.mkdir(type_folder)\n",
    "    \n",
    "    def dist(row):\n",
    "        tag = row[\"name\"]\n",
    "        tag_folder = None\n",
    "        for cls in classes:\n",
    "            n = classes[cls][\"total\"]\n",
    "            if n is not None and n <= 0:\n",
    "                continue\n",
    "            if classes[cls][\"check\"](tag):\n",
    "                tag_folder = cls\n",
    "                if n is not None:\n",
    "                    classes[cls][\"total\"]-=1\n",
    "                break\n",
    "                \n",
    "        if tag_folder is None:\n",
    "            return\n",
    "        fl_path = row[\"src\"]\n",
    "        tag_path = f\"{type_folder}{os.sep}{tag_folder}\"\n",
    "        *_, fl_name = fl_path.split(os.sep)\n",
    "        if not os.path.isdir(tag_path):\n",
    "            os.mkdir(tag_path)\n",
    "        copyfile(fl_path, f\"{tag_path}{os.sep}{fl_name}\")\n",
    "\n",
    "    df.apply(dist, axis=1)"
   ]
  },
  {
   "cell_type": "code",
   "execution_count": 65,
   "id": "e8b17c70-aba9-4ef9-bbce-46e742262482",
   "metadata": {},
   "outputs": [
    {
     "name": "stdout",
     "output_type": "stream",
     "text": [
      "incorrectly_masked_face: 1000 faces\n",
      "masked_face: 1000 faces\n",
      "unmasked_face: 1000 faces\n",
      "incorrectly_masked_face: 250 faces\n",
      "masked_face: 250 faces\n",
      "unmasked_face: 250 faces\n"
     ]
    }
   ],
   "source": [
    "form_ds(train_df, \"_Balance\", 3000)\n",
    "form_ds(test_df, \"_Balance\", 750)"
   ]
  }
 ],
 "metadata": {
  "kernelspec": {
   "display_name": "Python 3 (ipykernel)",
   "language": "python",
   "name": "python3"
  },
  "language_info": {
   "codemirror_mode": {
    "name": "ipython",
    "version": 3
   },
   "file_extension": ".py",
   "mimetype": "text/x-python",
   "name": "python",
   "nbconvert_exporter": "python",
   "pygments_lexer": "ipython3",
   "version": "3.9.7"
  }
 },
 "nbformat": 4,
 "nbformat_minor": 5
}
