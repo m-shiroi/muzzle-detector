{
 "cells": [
  {
   "cell_type": "code",
   "execution_count": 6,
   "id": "19ce7959-3da8-411c-b835-be26ae32dd0d",
   "metadata": {},
   "outputs": [],
   "source": [
    "import json\n",
    "import piexif\n",
    "from PIL import Image\n",
    "import os\n",
    "import pickle\n",
    "from shutil import copyfile, unpack_archive, move\n",
    "import pandas as pd\n",
    "from scrapper import scrapper"
   ]
  },
  {
   "cell_type": "code",
   "execution_count": 7,
   "id": "df2ff014-7f0f-4b9e-9cca-66422a70ea88",
   "metadata": {},
   "outputs": [
    {
     "data": {
      "text/plain": [
       "{'github': {'commit': '659e7e0df1ac7d7e876d07c33341f2e625cba3d4',\n",
       "  'repo': 'borutb-fri/FMLD'},\n",
       " 'annotations': {'id': 'FMLD_annotations.zip', 'src': 'github'},\n",
       " 'train': [{'img': {'id': '15hGDLhsx8bLgLcIRD5DhYt5iBxnjNF1M',\n",
       "    'out': 'wide-train.zip',\n",
       "    'src': 'drive'}},\n",
       "  {'img': {'id': '17bRIiaGyrKLEDQOV2RlqbPQ9TyCZxq9k',\n",
       "    'out': 'mafa-train.zip',\n",
       "    'src': 'drive'}}],\n",
       " 'test': [{'img': {'id': '1GUCogbp16PMGa39thoMMeWxp7Rp5oM8Q',\n",
       "    'out': 'wide-test.zip',\n",
       "    'src': 'drive'}},\n",
       "  {'img': {'id': '1jJHdmmscqxvNQ2dxKUrLaHqW3w1Yo_9S',\n",
       "    'out': 'mafa-test.zip',\n",
       "    'src': 'drive'}}]}"
      ]
     },
     "execution_count": 7,
     "metadata": {},
     "output_type": "execute_result"
    }
   ],
   "source": [
    "with open(\"meta.json\", encoding=\"UTF-8\") as fl:\n",
    "    meta=json.load(fl)\n",
    "meta"
   ]
  },
  {
   "cell_type": "code",
   "execution_count": 8,
   "id": "e5dde0bc-c6b5-4bed-85cb-3363c88887c4",
   "metadata": {},
   "outputs": [],
   "source": [
    "github_info = meta[\"github\"]"
   ]
  },
  {
   "cell_type": "code",
   "execution_count": 9,
   "id": "bc89e373-4b6e-43e1-94ee-e38ed6c93161",
   "metadata": {},
   "outputs": [
    {
     "name": "stderr",
     "output_type": "stream",
     "text": [
      "Downloading...\n",
      "From: https://drive.google.com/uc?id=15hGDLhsx8bLgLcIRD5DhYt5iBxnjNF1M\n",
      "To: /home/reybroncas/github/muzzle-detector/wide-train.zip\n",
      "100%|█████████████████████████████████████████████████████| 1.47G/1.47G [03:15<00:00, 7.49MB/s]\n",
      "Downloading...\n",
      "From: https://drive.google.com/uc?id=17bRIiaGyrKLEDQOV2RlqbPQ9TyCZxq9k\n",
      "To: /home/reybroncas/github/muzzle-detector/mafa-train.zip\n",
      "100%|█████████████████████████████████████████████████████| 1.96G/1.96G [04:27<00:00, 7.31MB/s]\n",
      "Downloading...\n",
      "From: https://drive.google.com/uc?id=1GUCogbp16PMGa39thoMMeWxp7Rp5oM8Q\n",
      "To: /home/reybroncas/github/muzzle-detector/wide-test.zip\n",
      "100%|███████████████████████████████████████████████████████| 363M/363M [00:50<00:00, 7.23MB/s]\n",
      "Downloading...\n",
      "From: https://drive.google.com/uc?id=1jJHdmmscqxvNQ2dxKUrLaHqW3w1Yo_9S\n",
      "To: /home/reybroncas/github/muzzle-detector/mafa-test.zip\n",
      "100%|███████████████████████████████████████████████████████| 466M/466M [01:02<00:00, 7.41MB/s]\n"
     ]
    },
    {
     "data": {
      "text/plain": [
       "[None, None]"
      ]
     },
     "execution_count": 9,
     "metadata": {},
     "output_type": "execute_result"
    }
   ],
   "source": [
    "scrapper(meta[\"annotations\"], github_info)\n",
    "[scrapper(el['img'], github_info) for el in meta[\"train\"]]\n",
    "[scrapper(el['img'], github_info) for el in meta[\"test\"]] "
   ]
  },
  {
   "cell_type": "code",
   "execution_count": 10,
   "id": "b18f1644-7057-4de7-9465-3ed0bbbc3f3a",
   "metadata": {},
   "outputs": [
    {
     "data": {
      "text/plain": [
       "'train-images'"
      ]
     },
     "execution_count": 10,
     "metadata": {},
     "output_type": "execute_result"
    }
   ],
   "source": [
    "unpack_archive(\"FMLD_annotations.zip\", \".\")\n",
    "unpack_archive(\"wide-test.zip\", \".\")\n",
    "unpack_archive(\"wide-train.zip\", \".\")\n",
    "unpack_archive(\"mafa-test.zip\", \".\")\n",
    "move(\"images\", \"test-images\")\n",
    "unpack_archive(\"mafa-train.zip\", \".\")\n",
    "move(\"images\", \"train-images\")"
   ]
  },
  {
   "cell_type": "code",
   "execution_count": 13,
   "id": "d1b9531c-011b-4c74-903e-3fb6879dbcfe",
   "metadata": {},
   "outputs": [],
   "source": [
    "import cv2\n",
    "import xml.etree.ElementTree as ET\n",
    "\n",
    "class Annotation:\n",
    "    THRESHOLD = 50\n",
    "    \n",
    "    def __init__(self, root):\n",
    "        if not os.path.isdir(root):\n",
    "            raise Exception(\"FUCK\")\n",
    "        self.iter = (f\"{subs}/{fl}\" for subs, dirs, fls in os.walk(root) for fl in fls)\n",
    "    \n",
    "    def save_faces(self):\n",
    "        to_int = lambda val: int(float(val))\n",
    "        get_object = lambda obj, w, h, d: {\n",
    "                \"name\": obj.find(\"name\").text,\n",
    "                \"gender\": obj.find(\"gender\").text,\n",
    "                \"ethnisity\": obj.find(\"ethnicity\").text,\n",
    "                \"pose\": obj.find(\"pose\").text,\n",
    "                \"truncated\": obj.find(\"truncated\").text,\n",
    "                \"difficult\": obj.find(\"difficult\").text,\n",
    "                \"x0\": max(0, to_int(obj.find(\"bndbox\").find(\"xmin\").text)),\n",
    "                \"y0\": max(0, to_int(obj.find(\"bndbox\").find(\"ymin\").text)),\n",
    "                \"x1\": min(w, to_int(obj.find(\"bndbox\").find(\"xmax\").text)),\n",
    "                \"y1\": min(h, to_int(obj.find(\"bndbox\").find(\"ymax\").text)),\n",
    "        }\n",
    "        \n",
    "        for fl in self.iter:\n",
    "            try:\n",
    "                name, _ = fl.split(\".xml\")\n",
    "                *_, name = name.split(os.sep)\n",
    "            except:\n",
    "                print(name)\n",
    "                continue\n",
    "            \n",
    "            root = ET.parse(fl)\n",
    "            path = root.find(\"path\").text\n",
    "            folder = root.find(\"folder\").text\n",
    "            if not os.path.isdir(folder):\n",
    "                os.mkdir(folder)\n",
    "            source = root.find(\"source\").find(\"database\").text\n",
    "            size = root.find(\"size\")\n",
    "            dim = {\n",
    "                \"w\": to_int(size.find(\"width\").text), \n",
    "                \"h\": to_int(size.find(\"height\").text), \n",
    "                \"d\": to_int(size.find(\"depth\").text)\n",
    "            }\n",
    "            segmented = root.find(\"segmented\").text\n",
    "            faces = self.__get_faces(map(lambda obj: get_object(obj, **dim), root.findall(\"object\")), path)\n",
    "            for ind, (face, exif) in enumerate(faces):\n",
    "                face_path = f\"{folder}{os.sep}{name}_{ind}.jpg\"\n",
    "                face.save(face_path, exif=exif)\n",
    "    \n",
    "    def read_faces(self):\n",
    "        for fl in self.iter:   \n",
    "            meta = self.face_meta(fl)\n",
    "            yield meta\n",
    "            \n",
    "    \n",
    "    @staticmethod\n",
    "    def __face_exif(path, obj_dict): \n",
    "        return piexif.dump({\"Exif\": {piexif.ExifIFD.MakerNote: pickle.dumps({\n",
    "            \"path\": path,\n",
    "            **obj_dict\n",
    "        })}})\n",
    "    \n",
    "    @staticmethod\n",
    "    def face_meta(path):\n",
    "        exif_dict = piexif.load(path)\n",
    "        return pickle.loads(exif_dict[\"Exif\"][piexif.ExifIFD.MakerNote])\n",
    "    \n",
    "    @staticmethod\n",
    "    def __get_faces(objs, fl):\n",
    "        img = cv2.imread(fl)\n",
    "        if img is None:\n",
    "            raise Exception(f\"No image: {fl}\")\n",
    "        for obj in objs:\n",
    "            y0,y1,x0,x1 = obj[\"y0\"],obj[\"y1\"],obj[\"x0\"],obj[\"x1\"]\n",
    "            \n",
    "            if min((y1 - y0), (x1 - x0)) < Annotation.THRESHOLD:\n",
    "                continue\n",
    "            face = img[y0:y1, x0:x1, :]\n",
    "            yield (Image.fromarray(face), Annotation.__face_exif(fl, obj))"
   ]
  },
  {
   "cell_type": "code",
   "execution_count": 14,
   "id": "4cee6781-5a34-4d95-868a-c446d5d54a32",
   "metadata": {},
   "outputs": [
    {
     "name": "stderr",
     "output_type": "stream",
     "text": [
      "libpng warning: Incorrect sBIT chunk length\n"
     ]
    }
   ],
   "source": [
    "A = Annotation(\"FMLD_annotations\")\n",
    "A.save_faces()"
   ]
  },
  {
   "cell_type": "code",
   "execution_count": 15,
   "id": "1d239a8b-96ce-4c93-9eff-4c91fd07a6e3",
   "metadata": {},
   "outputs": [],
   "source": [
    "test = Annotation(\"test\")\n",
    "train = Annotation(\"train\")\n",
    "test_df = pd.DataFrame(test.read_faces());\n",
    "train_df = pd.DataFrame(train.read_faces());"
   ]
  },
  {
   "cell_type": "code",
   "execution_count": 16,
   "id": "1299c3a5-a91f-4363-99ce-74da78b7c3f9",
   "metadata": {},
   "outputs": [],
   "source": [
    "test_df = test_df[test_df[\"gender\"] != \"unspecified\"]"
   ]
  },
  {
   "cell_type": "code",
   "execution_count": 18,
   "id": "470a9107-60ee-40c0-b5a8-6b7548b86633",
   "metadata": {},
   "outputs": [
    {
     "data": {
      "text/plain": [
       "<AxesSubplot:>"
      ]
     },
     "execution_count": 18,
     "metadata": {},
     "output_type": "execute_result"
    },
    {
     "data": {
      "image/png": "[encoded data removed]",
      "text/plain": [
       "<Figure size 432x288 with 1 Axes>"
      ]
     },
     "metadata": {
      "needs_background": "light"
     },
     "output_type": "display_data"
    }
   ],
   "source": [
    "test_df[\"pose\"].value_counts().plot.bar(color = ['#F66095', '#95ebec'])"
   ]
  },
  {
   "cell_type": "code",
   "execution_count": 19,
   "id": "416d0520-1eba-44b4-997d-185572ac364a",
   "metadata": {},
   "outputs": [
    {
     "data": {
      "text/plain": [
       "<AxesSubplot:>"
      ]
     },
     "execution_count": 19,
     "metadata": {},
     "output_type": "execute_result"
    },
    {
     "data": {
      "image/png": "[encoded data removed]",
      "text/plain": [
       "<Figure size 432x288 with 1 Axes>"
      ]
     },
     "metadata": {
      "needs_background": "light"
     },
     "output_type": "display_data"
    }
   ],
   "source": [
    "test_df[\"name\"].value_counts().plot.bar(color = ['#F66095', '#95ebec'])"
   ]
  },
  {
   "cell_type": "code",
   "execution_count": 20,
   "id": "8da37cae-4e94-4655-8e85-82211ad1d1e2",
   "metadata": {},
   "outputs": [
    {
     "data": {
      "text/plain": [
       "<AxesSubplot:>"
      ]
     },
     "execution_count": 20,
     "metadata": {},
     "output_type": "execute_result"
    },
    {
     "data": {
      "image/png": "[encoded data removed]",
      "text/plain": [
       "<Figure size 432x288 with 1 Axes>"
      ]
     },
     "metadata": {
      "needs_background": "light"
     },
     "output_type": "display_data"
    }
   ],
   "source": [
    "test_df[\"ethnisity\"].value_counts().plot.bar(color = ['#F66095', '#95ebec'])"
   ]
  },
  {
   "cell_type": "code",
   "execution_count": 21,
   "id": "dd448aba-6a4c-4554-b658-224bcb69dbf0",
   "metadata": {},
   "outputs": [
    {
     "data": {
      "text/plain": [
       "<AxesSubplot:>"
      ]
     },
     "execution_count": 21,
     "metadata": {},
     "output_type": "execute_result"
    },
    {
     "data": {
      "image/png": "[encoded data removed]",
      "text/plain": [
       "<Figure size 432x288 with 1 Axes>"
      ]
     },
     "metadata": {
      "needs_background": "light"
     },
     "output_type": "display_data"
    }
   ],
   "source": [
    "test_df[\"gender\"].value_counts().plot.bar(color = ['#F66095', '#95ebec'])"
   ]
  },
  {
   "cell_type": "code",
   "execution_count": 22,
   "id": "94e091cb-37b5-4f4d-8c3a-2ca75a153080",
   "metadata": {},
   "outputs": [
    {
     "name": "stdout",
     "output_type": "stream",
     "text": [
      "Test data-set size: 10480\n"
     ]
    }
   ],
   "source": [
    "print(f\"Test data-set size: {len(test_df)}\")"
   ]
  },
  {
   "cell_type": "code",
   "execution_count": 23,
   "id": "15845ffc-95d5-43bf-90fd-79f2433198cf",
   "metadata": {},
   "outputs": [
    {
     "data": {
      "text/plain": [
       "<AxesSubplot:>"
      ]
     },
     "execution_count": 23,
     "metadata": {},
     "output_type": "execute_result"
    },
    {
     "data": {
      "image/png": "[encoded data removed]",
      "text/plain": [
       "<Figure size 432x288 with 1 Axes>"
      ]
     },
     "metadata": {
      "needs_background": "light"
     },
     "output_type": "display_data"
    }
   ],
   "source": [
    "train_df[\"name\"].value_counts().plot.bar(color = ['#F66095', '#95ebec'])"
   ]
  },
  {
   "cell_type": "code",
   "execution_count": 24,
   "id": "fb3f0022-f9a3-4ace-9e47-096732c2b31a",
   "metadata": {},
   "outputs": [
    {
     "name": "stdout",
     "output_type": "stream",
     "text": [
      "Train data-set size: 42761\n"
     ]
    }
   ],
   "source": [
    "print(f\"Train data-set size: {len(train_df)}\")"
   ]
  },
  {
   "cell_type": "code",
   "execution_count": 26,
   "id": "1447b9f1-d53e-4fed-86ec-fb417138c7ea",
   "metadata": {},
   "outputs": [
    {
     "data": {
      "text/plain": [
       "0        None\n",
       "3        None\n",
       "4        None\n",
       "5        None\n",
       "6        None\n",
       "         ... \n",
       "12188    None\n",
       "12190    None\n",
       "12191    None\n",
       "12192    None\n",
       "12193    None\n",
       "Length: 10480, dtype: object"
      ]
     },
     "execution_count": 26,
     "metadata": {},
     "output_type": "execute_result"
    }
   ],
   "source": [
    "# Distribute for testing\n",
    "dataset_folder = \"DS\"\n",
    "dataset_type = \"test\"\n",
    "type_folder = f\"{dataset_folder}{os.sep}{dataset_type}\"\n",
    "\n",
    "if not os.path.isdir(dataset_folder):\n",
    "    os.mkdir(dataset_folder)\n",
    "if not os.path.isdir(type_folder):\n",
    "    os.mkdir(type_folder)\n",
    "    \n",
    "def dist(row):\n",
    "    cls_folder = \"correct\" if row[\"name\"] == \"masked_face\" else \"incorrect\"\n",
    "    cls_path = f\"{type_folder}{os.sep}{cls_folder}\"\n",
    "    fl_path = row[\"path\"]\n",
    "    *_, fl_name = fl_path.split(os.sep)\n",
    "    if not os.path.isdir(cls_path):\n",
    "        os.mkdir(cls_path)\n",
    "    copyfile(row[\"path\"], f\"{cls_path}{os.sep}{fl_name}\")\n",
    "\n",
    "\n",
    "test_df.apply(dist, axis=1)"
   ]
  },
  {
   "cell_type": "code",
   "execution_count": null,
   "id": "68ed3ee3",
   "metadata": {},
   "outputs": [],
   "source": []
  },
  {
   "cell_type": "code",
   "execution_count": null,
   "id": "0bde85a3",
   "metadata": {},
   "outputs": [],
   "source": []
  },
  {
   "cell_type": "code",
   "execution_count": null,
   "id": "6d2a3354",
   "metadata": {},
   "outputs": [],
   "source": []
  },
  {
   "cell_type": "code",
   "execution_count": null,
   "id": "489c99f7",
   "metadata": {},
   "outputs": [],
   "source": []
  },
  {
   "cell_type": "code",
   "execution_count": null,
   "id": "99fb379a",
   "metadata": {},
   "outputs": [],
   "source": []
  }
 ],
 "metadata": {
  "kernelspec": {
   "display_name": "Python 3 (ipykernel)",
   "language": "python",
   "name": "python3"
  },
  "language_info": {
   "codemirror_mode": {
    "name": "ipython",
    "version": 3
   },
   "file_extension": ".py",
   "mimetype": "text/x-python",
   "name": "python",
   "nbconvert_exporter": "python",
   "pygments_lexer": "ipython3",
   "version": "3.10.1"
  }
 },
 "nbformat": 4,
 "nbformat_minor": 5
}
