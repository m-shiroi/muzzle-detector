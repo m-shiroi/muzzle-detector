{
 "cells": [
  {
   "cell_type": "code",
   "execution_count": 1,
   "id": "a4f8578a-9b61-4fa4-afd4-e69675320da8",
   "metadata": {},
   "outputs": [],
   "source": [
    "# Partially from https://github.com/borutb-fri/FMLD/blob/main/mask-test.py\n",
    "\n",
    "import os\n",
    "import torch\n",
    "from torchvision import transforms, datasets\n",
    "import torchvision\n",
    "from torch.utils.data import DataLoader\n",
    "from torch import nn\n",
    "from sklearn.metrics import confusion_matrix, precision_score, recall_score\n",
    "import seaborn as sn\n",
    "import pandas as pd\n",
    "import numpy as np\n",
    "from matplotlib import pyplot as plt"
   ]
  },
  {
   "cell_type": "code",
   "execution_count": 2,
   "id": "c39d067e-1355-4b1c-97e9-13c7536dab6d",
   "metadata": {},
   "outputs": [],
   "source": [
    "def get_ds(root):\n",
    "    # Applying Transforms to the Data\n",
    "    image_transform = transforms.Compose([\n",
    "            transforms.Resize(size=(224, 224)),\n",
    "            transforms.ToTensor(),\n",
    "            transforms.Normalize([0.485, 0.456, 0.406],\n",
    "                                 [0.229, 0.224, 0.225])\n",
    "    ])\n",
    "    \n",
    "    directories = {\n",
    "        type_: os.path.join(root, type_) for type_ in next(os.walk(root))[1]\n",
    "    }\n",
    "    types = directories.keys()\n",
    "\n",
    "    # Batch size\n",
    "    bs = 128\n",
    "\n",
    "    # Number of classes\n",
    "    num_classes = 2\n",
    "\n",
    "    # Load Data from folders\n",
    "    ds = {\n",
    "        type_: datasets.ImageFolder(root=directories[type_], transform=image_transform)\n",
    "                                    for type_ in  directories\n",
    "    }\n",
    "    \n",
    "    dls = {type_: torch.utils.data.DataLoader(ds[type_], batch_size=bs, shuffle=(True*type_!=\"test\"), num_workers=4)\n",
    "              for type_ in types\n",
    "    }\n",
    "    dls = {type_: {\"dl\": dls[type_], \"size\": len(ds[type_])} for type_ in types}\n",
    "    return dls"
   ]
  },
  {
   "cell_type": "code",
   "execution_count": 3,
   "id": "1f041d44-65f8-4630-9094-71e72b19ab7e",
   "metadata": {},
   "outputs": [
    {
     "ename": "StopIteration",
     "evalue": "",
     "output_type": "error",
     "traceback": [
      "\u001b[0;31m---------------------------------------------------------------------------\u001b[0m",
      "\u001b[0;31mStopIteration\u001b[0m                             Traceback (most recent call last)",
      "\u001b[0;32m/tmp/ipykernel_9248/1812292968.py\u001b[0m in \u001b[0;36m<module>\u001b[0;34m\u001b[0m\n\u001b[0;32m----> 1\u001b[0;31m \u001b[0mdata_loaders\u001b[0m \u001b[0;34m=\u001b[0m \u001b[0mget_ds\u001b[0m\u001b[0;34m(\u001b[0m\u001b[0;34m'__FULL'\u001b[0m\u001b[0;34m)\u001b[0m\u001b[0;34m;\u001b[0m \u001b[0mdata_loaders\u001b[0m\u001b[0;34m\u001b[0m\u001b[0;34m\u001b[0m\u001b[0m\n\u001b[0m",
      "\u001b[0;32m/tmp/ipykernel_9248/3629746658.py\u001b[0m in \u001b[0;36mget_ds\u001b[0;34m(root)\u001b[0m\n\u001b[1;32m      9\u001b[0m \u001b[0;34m\u001b[0m\u001b[0m\n\u001b[1;32m     10\u001b[0m     directories = {\n\u001b[0;32m---> 11\u001b[0;31m         \u001b[0mtype_\u001b[0m\u001b[0;34m:\u001b[0m \u001b[0mos\u001b[0m\u001b[0;34m.\u001b[0m\u001b[0mpath\u001b[0m\u001b[0;34m.\u001b[0m\u001b[0mjoin\u001b[0m\u001b[0;34m(\u001b[0m\u001b[0mroot\u001b[0m\u001b[0;34m,\u001b[0m \u001b[0mtype_\u001b[0m\u001b[0;34m)\u001b[0m \u001b[0;32mfor\u001b[0m \u001b[0mtype_\u001b[0m \u001b[0;32min\u001b[0m \u001b[0mnext\u001b[0m\u001b[0;34m(\u001b[0m\u001b[0mos\u001b[0m\u001b[0;34m.\u001b[0m\u001b[0mwalk\u001b[0m\u001b[0;34m(\u001b[0m\u001b[0mroot\u001b[0m\u001b[0;34m)\u001b[0m\u001b[0;34m)\u001b[0m\u001b[0;34m[\u001b[0m\u001b[0;36m1\u001b[0m\u001b[0;34m]\u001b[0m\u001b[0;34m\u001b[0m\u001b[0;34m\u001b[0m\u001b[0m\n\u001b[0m\u001b[1;32m     12\u001b[0m     }\n\u001b[1;32m     13\u001b[0m     \u001b[0mtypes\u001b[0m \u001b[0;34m=\u001b[0m \u001b[0mdirectories\u001b[0m\u001b[0;34m.\u001b[0m\u001b[0mkeys\u001b[0m\u001b[0;34m(\u001b[0m\u001b[0;34m)\u001b[0m\u001b[0;34m\u001b[0m\u001b[0;34m\u001b[0m\u001b[0m\n",
      "\u001b[0;31mStopIteration\u001b[0m: "
     ]
    }
   ],
   "source": [
    "data_loaders = get_ds('_FULL'); data_loaders"
   ]
  },
  {
   "cell_type": "code",
   "execution_count": 53,
   "id": "a16f3f1c-92b5-48ef-b8c2-ba365d31a58a",
   "metadata": {},
   "outputs": [
    {
     "name": "stdout",
     "output_type": "stream",
     "text": [
      "Number of faces:  10482\n",
      "Test accuracy:  0.9732875405798157\n",
      "Test precision: 0.9841006955945677\n",
      "Test recall:    0.969964087495919\n"
     ]
    },
    {
     "data": {
      "image/png": "[encoded data removed]",
      "text/plain": [
       "<Figure size 864x720 with 2 Axes>"
      ]
     },
     "metadata": {
      "needs_background": "light"
     },
     "output_type": "display_data"
    }
   ],
   "source": [
    "# Print the test set data sizes\n",
    "data_size = data_loaders[\"test\"][\"size\"]\n",
    "data_loader = data_loaders[\"test\"][\"dl\"]\n",
    "\n",
    "print('Number of faces: ',data_loaders[\"test\"][\"size\"])\n",
    "\n",
    "def TestM(model, loss_criterion, data_loader, data_size):\n",
    "    '''\n",
    "    Function to compute the accuracy on the test set\n",
    "    Parameters\n",
    "        :param model: Model to test\n",
    "        :param loss_criterion: Loss Criterion to minimize\n",
    "    '''\n",
    "\n",
    "    test_acc = 0.0\n",
    "    test_loss = 0.0\n",
    "    class_expected = []\n",
    "    class_real = []\n",
    "    # Validation - No gradient tracking needed\n",
    "    with torch.no_grad():\n",
    "        # Set to evaluation mode\n",
    "        model.eval()\n",
    "\n",
    "        # Validation loop\n",
    "        for j, (inputs, labels) in enumerate(data_loader):\n",
    "            inputs = inputs.to(device)\n",
    "            labels = labels.to(device)\n",
    "            class_expected.extend(labels)\n",
    "\n",
    "            # Forward pass - compute outputs on input data using the model\n",
    "            outputs = model(inputs)\n",
    "\n",
    "            # Compute loss\n",
    "            #loss = loss_criterion(outputs, labels)\n",
    "\n",
    "            # Compute the total loss for the batch and add it to valid_loss\n",
    "            #test_loss += loss.item() * inputs.size(0)\n",
    "\n",
    "            # Calculate validation accuracy\n",
    "            ret, predictions = torch.max(outputs.data, 1)\n",
    "            class_real.extend(predictions.numpy())\n",
    "            correct_counts = predictions.eq(labels.data.view_as(predictions))\n",
    "\n",
    "            # Convert correct_counts to float and then compute the mean\n",
    "            acc = torch.mean(correct_counts.type(torch.FloatTensor))\n",
    "            # Compute total accuracy in the whole batch and add to valid_acc\n",
    "            test_acc += acc.item() * inputs.size(0)\n",
    "    avg_test_acc = test_acc/data_size\n",
    "    return avg_test_acc, {\"exp\": class_expected, \"real\": class_real}\n",
    "\n",
    "\n",
    "\n",
    "device = torch.device('cpu')\n",
    "loss_func = nn.CrossEntropyLoss() #for a multi-class classification problem \n",
    "\n",
    "model = torchvision.models.mobilenet_v3_small(pretrained=True)\n",
    "model.fc = nn.Linear(1024, 2)\n",
    "\n",
    "model_file = 'models/mobilenet_v3_small_1_Linear_10e_FULL.pt'\n",
    "if not os.path.exists(model_file):\n",
    "    print(\"Can not find model {model_file}\")\n",
    "else:\n",
    "    model.load_state_dict(torch.load(model_file))\n",
    "    model = model.to(device)\n",
    "    avg_test_acc, res = TestM(model, loss_func, data_loaders[\"test\"][\"dl\"], data_loaders[\"test\"][\"size\"])\n",
    "    print(\"Test accuracy:  \" + str(avg_test_acc))\n",
    "    print(\"Test precision: \" + str(precision_score(res[\"exp\"], res[\"real\"])))\n",
    "    print(\"Test recall:    \" + str(recall_score(res[\"exp\"], res[\"real\"])))\n",
    "    classes = [\"CORRECT \", \"INCORRECT\"]\n",
    "    cf_matrix = confusion_matrix(res[\"exp\"], res[\"real\"])\n",
    "    vals = cf_matrix.flatten()\n",
    "    prcs = (cf_matrix.flatten()/np.sum(vals))*100\n",
    "    annots = ['True Positive','False Negative','False Negative','True Positive']\n",
    "    lbls = [ f\"{v}\\n{p}%\\n{a}\" for v,p,a in zip(vals, prcs, annots) ]\n",
    "    df_cm = pd.DataFrame(cf_matrix/np.sum(cf_matrix), index = classes, columns = classes)\n",
    "    lbls = np.asarray(lbls).reshape(2,2)\n",
    "    plt.figure(figsize = (12,10))\n",
    "    sn.heatmap(df_cm, annot=lbls, fmt='', cmap='Reds')\n"
   ]
  }
 ],
 "metadata": {
  "kernelspec": {
   "display_name": "Python 3 (ipykernel)",
   "language": "python",
   "name": "python3"
  },
  "language_info": {
   "codemirror_mode": {
    "name": "ipython",
    "version": 3
   },
   "file_extension": ".py",
   "mimetype": "text/x-python",
   "name": "python",
   "nbconvert_exporter": "python",
   "pygments_lexer": "ipython3",
   "version": "3.9.7"
  }
 },
 "nbformat": 4,
 "nbformat_minor": 5
}
